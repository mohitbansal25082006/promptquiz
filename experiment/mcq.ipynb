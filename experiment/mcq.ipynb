{
 "cells": [
  {
   "cell_type": "code",
   "execution_count": 61,
   "id": "c6a3f16b",
   "metadata": {},
   "outputs": [],
   "source": [
    "import os\n",
    "import json\n",
    "import pandas as pd\n",
    "import traceback"
   ]
  },
  {
   "cell_type": "code",
   "execution_count": 62,
   "id": "f22d1fd3",
   "metadata": {},
   "outputs": [],
   "source": [
    "from langchain_openai import ChatOpenAI"
   ]
  },
  {
   "cell_type": "code",
   "execution_count": 63,
   "id": "8c961888",
   "metadata": {},
   "outputs": [
    {
     "data": {
      "text/plain": [
       "True"
      ]
     },
     "execution_count": 63,
     "metadata": {},
     "output_type": "execute_result"
    }
   ],
   "source": [
    "from dotenv import load_dotenv\n",
    "\n",
    "load_dotenv()"
   ]
  },
  {
   "cell_type": "code",
   "execution_count": 64,
   "id": "09c952b0",
   "metadata": {},
   "outputs": [],
   "source": [
    "KEY=os.getenv(\"OPENAI_API_KEY\")"
   ]
  },
  {
   "cell_type": "code",
   "execution_count": 65,
   "id": "69ef1560",
   "metadata": {},
   "outputs": [],
   "source": [
    "llm=ChatOpenAI(openai_api_key=KEY,model_name=\"gpt-3.5-turbo\", temperature=0.5)"
   ]
  },
  {
   "cell_type": "code",
   "execution_count": 66,
   "id": "1d2193cf",
   "metadata": {},
   "outputs": [
    {
     "data": {
      "text/plain": [
       "ChatOpenAI(client=<openai.resources.chat.completions.completions.Completions object at 0x00000232D28676D0>, async_client=<openai.resources.chat.completions.completions.AsyncCompletions object at 0x00000232D2867D60>, root_client=<openai.OpenAI object at 0x00000232D2867EE0>, root_async_client=<openai.AsyncOpenAI object at 0x00000232D2867970>, temperature=0.5, model_kwargs={}, openai_api_key=SecretStr('**********'))"
      ]
     },
     "execution_count": 66,
     "metadata": {},
     "output_type": "execute_result"
    }
   ],
   "source": [
    "llm"
   ]
  },
  {
   "cell_type": "code",
   "execution_count": 67,
   "id": "492ca825",
   "metadata": {},
   "outputs": [],
   "source": [
    "#  New imports for OpenAI (moved to langchain_openai)\n",
    "from langchain_openai import OpenAI, ChatOpenAI\n",
    "\n",
    "#  Prompt template (still in langchain)\n",
    "from langchain.prompts import PromptTemplate\n",
    "\n",
    "#  Chains (still in langchain)\n",
    "from langchain.chains import LLMChain, SequentialChain\n",
    "\n",
    "#  Callbacks for token usage and cost tracking\n",
    "from langchain.callbacks import get_openai_callback\n",
    "\n",
    "#  PDF reading library\n",
    "import PyPDF2\n"
   ]
  },
  {
   "cell_type": "code",
   "execution_count": 68,
   "id": "e7164f6f",
   "metadata": {},
   "outputs": [],
   "source": [
    "RESPONSE_JSON = {\n",
    "    \"1\": {\n",
    "        \"mcq\": \"Write your first multiple choice question here.\",\n",
    "        \"options\": {\n",
    "            \"a\": \"First option text.\",\n",
    "            \"b\": \"Second option text.\",\n",
    "            \"c\": \"Third option text.\",\n",
    "            \"d\": \"Fourth option text.\"\n",
    "        },\n",
    "        \"correct\": \"a\"\n",
    "    },\n",
    "    \"2\": {\n",
    "        \"mcq\": \"Write your second multiple choice question here.\",\n",
    "        \"options\": {\n",
    "            \"a\": \"First option text.\",\n",
    "            \"b\": \"Second option text.\",\n",
    "            \"c\": \"Third option text.\",\n",
    "            \"d\": \"Fourth option text.\"\n",
    "        },\n",
    "        \"correct\": \"b\"\n",
    "    },\n",
    "    \"3\": {\n",
    "        \"mcq\": \"Write your third multiple choice question here.\",\n",
    "        \"options\": {\n",
    "            \"a\": \"First option text.\",\n",
    "            \"b\": \"Second option text.\",\n",
    "            \"c\": \"Third option text.\",\n",
    "            \"d\": \"Fourth option text.\"\n",
    "        },\n",
    "        \"correct\": \"d\"\n",
    "    }\n",
    "}\n"
   ]
  },
  {
   "cell_type": "code",
   "execution_count": 69,
   "id": "2235ffcf",
   "metadata": {},
   "outputs": [],
   "source": [
    "TEMPLATE = \"\"\"\n",
    "You are an expert MCQ generator.\n",
    "\n",
    "Given the following text, create exactly {number} multiple-choice questions for {subject} students, written in a {tone} tone.\n",
    "\n",
    "**Input Text:**\n",
    "{text}\n",
    "\n",
    "**Important Instructions:**\n",
    "- Do not repeat any questions.\n",
    "- Each question must be directly based on the input text.\n",
    "- All questions should be clear, unambiguous, and appropriate for {subject} students.\n",
    "- Your response **must** be formatted exactly as the JSON example shown below.\n",
    "- **Do not include any explanations or additional text. Only return the JSON object.**\n",
    "\n",
    "**Response JSON Example:**\n",
    "{response_json}\n",
    "\n",
    "**Reminder:**\n",
    "Ensure the JSON includes exactly {number} unique MCQs derived from the provided text.\n",
    "\"\"\"\n"
   ]
  },
  {
   "cell_type": "code",
   "execution_count": 70,
   "id": "83369deb",
   "metadata": {},
   "outputs": [],
   "source": [
    "quiz_generation_prompt = PromptTemplate(\n",
    "    input_variables=[\"text\", \"number\", \"subject\", \"tone\", \"response_json\"],\n",
    "    template=TEMPLATE\n",
    ")"
   ]
  },
  {
   "cell_type": "code",
   "execution_count": 71,
   "id": "75e62d5a",
   "metadata": {},
   "outputs": [],
   "source": [
    "quiz_chain = quiz_generation_prompt | llm"
   ]
  },
  {
   "cell_type": "code",
   "execution_count": 72,
   "id": "fa519a8a",
   "metadata": {},
   "outputs": [],
   "source": [
    "TEMPLATE2 = \"\"\"\n",
    "You are an expert English grammarian and academic writer.\n",
    "\n",
    "Given the following multiple-choice quiz intended for {subject} students:\n",
    "\n",
    "### Quiz MCQs:\n",
    "{quiz}\n",
    "\n",
    "**Instructions:**\n",
    "1. Evaluate the complexity of the quiz and provide a short analysis (maximum 50 words) describing whether the questions are appropriate for the cognitive and analytical abilities of the students.\n",
    "2. If any questions are too difficult, too simple, or inappropriate, rewrite only those questions so they are better suited to the target students. Use a clear and consistent tone appropriate for {subject} students.\n",
    "3. If no changes are needed, simply state \"All questions are appropriate.\"\n",
    "\n",
    "**Response Format:**\n",
    "Return your answer as a JSON object with the following fields:\n",
    "\n",
    "{{\n",
    "  \"complexity_analysis\": \"Your 50-word analysis here.\",\n",
    "  \"updated_quiz\": \"The updated quiz here if any questions were changed, otherwise write 'No changes needed.'\"\n",
    "}}\n",
    "\"\"\""
   ]
  },
  {
   "cell_type": "code",
   "execution_count": 73,
   "id": "4defef4b",
   "metadata": {},
   "outputs": [],
   "source": [
    "quiz_evaluation_prompt = PromptTemplate(\n",
    "    input_variables=[\"subject\", \"quiz\"],\n",
    "    template=TEMPLATE2\n",
    ")"
   ]
  },
  {
   "cell_type": "code",
   "execution_count": 74,
   "id": "e7e775fa",
   "metadata": {},
   "outputs": [],
   "source": [
    "review_chain = quiz_evaluation_prompt | llm"
   ]
  },
  {
   "cell_type": "code",
   "execution_count": 75,
   "id": "7482a613",
   "metadata": {},
   "outputs": [],
   "source": [
    "def generate_and_evaluate(text, number, subject, tone, response_json):\n",
    "    quiz_result = quiz_chain.invoke({\n",
    "        \"text\": text,\n",
    "        \"number\": str(number),\n",
    "        \"subject\": subject,\n",
    "        \"tone\": tone,\n",
    "        \"response_json\": response_json\n",
    "    })\n",
    "    review_result = review_chain.invoke({\n",
    "        \"subject\": subject,\n",
    "        \"quiz\": quiz_result\n",
    "    })\n",
    "    return {\n",
    "        \"quiz\": quiz_result,\n",
    "        \"review\": review_result\n",
    "    }"
   ]
  },
  {
   "cell_type": "code",
   "execution_count": 76,
   "id": "dee36f13",
   "metadata": {},
   "outputs": [],
   "source": [
    "file_path=r\"E:\\promptquiz\\data.txt\""
   ]
  },
  {
   "cell_type": "code",
   "execution_count": 77,
   "id": "0e4356ab",
   "metadata": {},
   "outputs": [
    {
     "data": {
      "text/plain": [
       "'E:\\\\promptquiz\\\\data.txt'"
      ]
     },
     "execution_count": 77,
     "metadata": {},
     "output_type": "execute_result"
    }
   ],
   "source": [
    "file_path"
   ]
  },
  {
   "cell_type": "code",
   "execution_count": 78,
   "id": "d76f8a53",
   "metadata": {},
   "outputs": [],
   "source": [
    "with open(file_path, 'r') as file:\n",
    "    TEXT = file.read()"
   ]
  },
  {
   "cell_type": "code",
   "execution_count": 79,
   "id": "61d6aee0",
   "metadata": {},
   "outputs": [
    {
     "name": "stdout",
     "output_type": "stream",
     "text": [
      "Biology is the scientific study of life.[1][2][3] It is a natural science with a broad scope but has several unifying themes that tie it together as a single, coherent field.[1][2][3] For instance, all organisms are made up of cells that process hereditary information encoded in genes, which can be transmitted to future generations. Another major theme is evolution, which explains the unity and diversity of life.[1][2][3] Energy processing is also important to life as it allows organisms to move, grow, and reproduce.[1][2][3] Finally, all organisms are able to regulate their own internal environments.[1][2][3][4][5]\n",
      "\n",
      "Biologists are able to study life at multiple levels of organization,[1] from the molecular biology of a cell to the anatomy and physiology of plants and animals, and evolution of populations.[1][6] Hence, there are multiple subdisciplines within biology, each defined by the nature of their research questions and the tools that they use.[7][8][9] Like other scientists, biologists use the scientific method to make observations, pose questions, generate hypotheses, perform experiments, and form conclusions about the world around them.[1]\n",
      "\n",
      "Life on Earth, which emerged more than 3.7 billion years ago,[10] is immensely diverse. Biologists have sought to study and classify the various forms of life, from prokaryotic organisms such as archaea and bacteria to eukaryotic organisms such as protists, fungi, plants, and animals. These various organisms contribute to the biodiversity of an ecosystem, where they play specialized roles in the cycling of nutrients and energy through their biophysical environment.\n"
     ]
    }
   ],
   "source": [
    "print(TEXT)"
   ]
  },
  {
   "cell_type": "code",
   "execution_count": 80,
   "id": "b4871e62",
   "metadata": {},
   "outputs": [
    {
     "data": {
      "text/plain": [
       "'{\"1\": {\"mcq\": \"Write your first multiple choice question here.\", \"options\": {\"a\": \"First option text.\", \"b\": \"Second option text.\", \"c\": \"Third option text.\", \"d\": \"Fourth option text.\"}, \"correct\": \"a\"}, \"2\": {\"mcq\": \"Write your second multiple choice question here.\", \"options\": {\"a\": \"First option text.\", \"b\": \"Second option text.\", \"c\": \"Third option text.\", \"d\": \"Fourth option text.\"}, \"correct\": \"b\"}, \"3\": {\"mcq\": \"Write your third multiple choice question here.\", \"options\": {\"a\": \"First option text.\", \"b\": \"Second option text.\", \"c\": \"Third option text.\", \"d\": \"Fourth option text.\"}, \"correct\": \"d\"}}'"
      ]
     },
     "execution_count": 80,
     "metadata": {},
     "output_type": "execute_result"
    }
   ],
   "source": [
    "# Serialize the Python dictionary into a JSON-formatted string\n",
    "json.dumps(RESPONSE_JSON)"
   ]
  },
  {
   "cell_type": "code",
   "execution_count": 81,
   "id": "2cd969e4",
   "metadata": {},
   "outputs": [],
   "source": [
    "NUMBER=5 \n",
    "SUBJECT=\"biology\"\n",
    "TONE=\"simple\""
   ]
  },
  {
   "cell_type": "code",
   "execution_count": 82,
   "id": "5705a8e3",
   "metadata": {},
   "outputs": [],
   "source": [
    "#How to setup Token Usage Tracking in LangChain\n",
    "with get_openai_callback() as cb:\n",
    "    response = generate_and_evaluate(\n",
    "        text=TEXT,\n",
    "        number=NUMBER,\n",
    "        subject=SUBJECT,\n",
    "        tone=TONE,\n",
    "        response_json=json.dumps(RESPONSE_JSON)\n",
    "    )"
   ]
  },
  {
   "cell_type": "code",
   "execution_count": 83,
   "id": "a1d01cc3",
   "metadata": {},
   "outputs": [
    {
     "name": "stdout",
     "output_type": "stream",
     "text": [
      "Total Tokens: 2023\n",
      "Prompt Tokens: 1582\n",
      "Completion Tokens: 441\n",
      "Total Cost: $0.0015\n"
     ]
    }
   ],
   "source": [
    "print(f\"Total Tokens: {cb.total_tokens}\")\n",
    "print(f\"Prompt Tokens: {cb.prompt_tokens}\")\n",
    "print(f\"Completion Tokens: {cb.completion_tokens}\")\n",
    "print(f\"Total Cost: ${cb.total_cost:.4f}\")"
   ]
  },
  {
   "cell_type": "code",
   "execution_count": 84,
   "id": "f97dfaae",
   "metadata": {},
   "outputs": [
    {
     "data": {
      "text/plain": [
       "{'quiz': AIMessage(content='\\n{\\n    \"1\": {\\n        \"mcq\": \"What is the main theme that explains the unity and diversity of life in biology?\",\\n        \"options\": {\\n            \"a\": \"Energy processing\",\\n            \"b\": \"Evolution\",\\n            \"c\": \"Regulation of internal environments\",\\n            \"d\": \"Cellular structure\"\\n        },\\n        \"correct\": \"b\"\\n    },\\n    \"2\": {\\n        \"mcq\": \"What is the scientific study of life known as?\",\\n        \"options\": {\\n            \"a\": \"Chemistry\",\\n            \"b\": \"Biology\",\\n            \"c\": \"Physics\",\\n            \"d\": \"Geology\"\\n        },\\n        \"correct\": \"b\"\\n    },\\n    \"3\": {\\n        \"mcq\": \"What is the process that allows organisms to move, grow, and reproduce?\",\\n        \"options\": {\\n            \"a\": \"Evolution\",\\n            \"b\": \"Energy processing\",\\n            \"c\": \"Cellular respiration\",\\n            \"d\": \"Photosynthesis\"\\n        },\\n        \"correct\": \"b\"\\n    },\\n    \"4\": {\\n        \"mcq\": \"At what levels of organization can biologists study life?\",\\n        \"options\": {\\n            \"a\": \"Only at the cellular level\",\\n            \"b\": \"From molecular biology to the evolution of populations\",\\n            \"c\": \"Only at the organism level\",\\n            \"d\": \"From anatomy to physiology\"\\n        },\\n        \"correct\": \"b\"\\n    },\\n    \"5\": {\\n        \"mcq\": \"When did life on Earth emerge?\",\\n        \"options\": {\\n            \"a\": \"1 million years ago\",\\n            \"b\": \"3.7 billion years ago\",\\n            \"c\": \"500 million years ago\",\\n            \"d\": \"10,000 years ago\"\\n        },\\n        \"correct\": \"b\"\\n    }\\n}', additional_kwargs={'refusal': None}, response_metadata={'token_usage': {'completion_tokens': 387, 'prompt_tokens': 666, 'total_tokens': 1053, 'completion_tokens_details': {'accepted_prediction_tokens': 0, 'audio_tokens': 0, 'reasoning_tokens': 0, 'rejected_prediction_tokens': 0}, 'prompt_tokens_details': {'audio_tokens': 0, 'cached_tokens': 0}}, 'model_name': 'gpt-3.5-turbo-0125', 'system_fingerprint': None, 'id': 'chatcmpl-BsCNr2Ste38ARD99bG2lKpBd0JXsP', 'service_tier': 'default', 'finish_reason': 'stop', 'logprobs': None}, id='run--e8f9c761-6932-4844-838d-97569c7f6a38-0', usage_metadata={'input_tokens': 666, 'output_tokens': 387, 'total_tokens': 1053, 'input_token_details': {'audio': 0, 'cache_read': 0}, 'output_token_details': {'audio': 0, 'reasoning': 0}}),\n",
       " 'review': AIMessage(content='{\\n  \"complexity_analysis\": \"The quiz is suitable for biology students as it covers foundational concepts in biology such as evolution, energy processing, and levels of organization. The questions are clear and test basic understanding.\",\\n  \"updated_quiz\": \"No changes needed.\"\\n}', additional_kwargs={'refusal': None}, response_metadata={'token_usage': {'completion_tokens': 54, 'prompt_tokens': 916, 'total_tokens': 970, 'completion_tokens_details': {'accepted_prediction_tokens': 0, 'audio_tokens': 0, 'reasoning_tokens': 0, 'rejected_prediction_tokens': 0}, 'prompt_tokens_details': {'audio_tokens': 0, 'cached_tokens': 0}}, 'model_name': 'gpt-3.5-turbo-0125', 'system_fingerprint': None, 'id': 'chatcmpl-BsCNwaiVHJaTKPQ72MmAy2frGGmWN', 'service_tier': 'default', 'finish_reason': 'stop', 'logprobs': None}, id='run--f32c6aa1-0eae-4b1c-b1c6-c6a95ed7ccf0-0', usage_metadata={'input_tokens': 916, 'output_tokens': 54, 'total_tokens': 970, 'input_token_details': {'audio': 0, 'cache_read': 0}, 'output_token_details': {'audio': 0, 'reasoning': 0}})}"
      ]
     },
     "execution_count": 84,
     "metadata": {},
     "output_type": "execute_result"
    }
   ],
   "source": [
    "response"
   ]
  },
  {
   "cell_type": "code",
   "execution_count": 85,
   "id": "c33c6e0e",
   "metadata": {},
   "outputs": [],
   "source": [
    "quiz=response.get(\"quiz\")"
   ]
  },
  {
   "cell_type": "code",
   "execution_count": 87,
   "id": "88292af8",
   "metadata": {},
   "outputs": [],
   "source": [
    "quiz = json.loads(quiz.content)"
   ]
  },
  {
   "cell_type": "code",
   "execution_count": 88,
   "id": "73ae4f7d",
   "metadata": {},
   "outputs": [
    {
     "data": {
      "text/plain": [
       "{'1': {'mcq': 'What is the main theme that explains the unity and diversity of life in biology?',\n",
       "  'options': {'a': 'Energy processing',\n",
       "   'b': 'Evolution',\n",
       "   'c': 'Regulation of internal environments',\n",
       "   'd': 'Cellular structure'},\n",
       "  'correct': 'b'},\n",
       " '2': {'mcq': 'What is the scientific study of life known as?',\n",
       "  'options': {'a': 'Chemistry',\n",
       "   'b': 'Biology',\n",
       "   'c': 'Physics',\n",
       "   'd': 'Geology'},\n",
       "  'correct': 'b'},\n",
       " '3': {'mcq': 'What is the process that allows organisms to move, grow, and reproduce?',\n",
       "  'options': {'a': 'Evolution',\n",
       "   'b': 'Energy processing',\n",
       "   'c': 'Cellular respiration',\n",
       "   'd': 'Photosynthesis'},\n",
       "  'correct': 'b'},\n",
       " '4': {'mcq': 'At what levels of organization can biologists study life?',\n",
       "  'options': {'a': 'Only at the cellular level',\n",
       "   'b': 'From molecular biology to the evolution of populations',\n",
       "   'c': 'Only at the organism level',\n",
       "   'd': 'From anatomy to physiology'},\n",
       "  'correct': 'b'},\n",
       " '5': {'mcq': 'When did life on Earth emerge?',\n",
       "  'options': {'a': '1 million years ago',\n",
       "   'b': '3.7 billion years ago',\n",
       "   'c': '500 million years ago',\n",
       "   'd': '10,000 years ago'},\n",
       "  'correct': 'b'}}"
      ]
     },
     "execution_count": 88,
     "metadata": {},
     "output_type": "execute_result"
    }
   ],
   "source": [
    "quiz"
   ]
  },
  {
   "cell_type": "code",
   "execution_count": 89,
   "id": "b5052ae7",
   "metadata": {},
   "outputs": [],
   "source": [
    "quiz_table_data = []\n",
    "for key, value in quiz.items():\n",
    "    mcq = value[\"mcq\"]\n",
    "    options = \" | \".join(\n",
    "        [\n",
    "            f\"{option}: {option_value}\"\n",
    "            for option, option_value in value[\"options\"].items()\n",
    "        ]\n",
    "    )\n",
    "    correct = value[\"correct\"]\n",
    "    quiz_table_data.append({\"MCQ\": mcq, \"Choices\": options, \"Correct\": correct})"
   ]
  },
  {
   "cell_type": "code",
   "execution_count": 90,
   "id": "0fb9dd26",
   "metadata": {},
   "outputs": [
    {
     "data": {
      "text/plain": [
       "[{'MCQ': 'What is the main theme that explains the unity and diversity of life in biology?',\n",
       "  'Choices': 'a: Energy processing | b: Evolution | c: Regulation of internal environments | d: Cellular structure',\n",
       "  'Correct': 'b'},\n",
       " {'MCQ': 'What is the scientific study of life known as?',\n",
       "  'Choices': 'a: Chemistry | b: Biology | c: Physics | d: Geology',\n",
       "  'Correct': 'b'},\n",
       " {'MCQ': 'What is the process that allows organisms to move, grow, and reproduce?',\n",
       "  'Choices': 'a: Evolution | b: Energy processing | c: Cellular respiration | d: Photosynthesis',\n",
       "  'Correct': 'b'},\n",
       " {'MCQ': 'At what levels of organization can biologists study life?',\n",
       "  'Choices': 'a: Only at the cellular level | b: From molecular biology to the evolution of populations | c: Only at the organism level | d: From anatomy to physiology',\n",
       "  'Correct': 'b'},\n",
       " {'MCQ': 'When did life on Earth emerge?',\n",
       "  'Choices': 'a: 1 million years ago | b: 3.7 billion years ago | c: 500 million years ago | d: 10,000 years ago',\n",
       "  'Correct': 'b'}]"
      ]
     },
     "execution_count": 90,
     "metadata": {},
     "output_type": "execute_result"
    }
   ],
   "source": [
    "quiz_table_data"
   ]
  },
  {
   "cell_type": "code",
   "execution_count": 91,
   "id": "c6b18375",
   "metadata": {},
   "outputs": [],
   "source": [
    "quiz=pd.DataFrame(quiz_table_data)"
   ]
  },
  {
   "cell_type": "code",
   "execution_count": 92,
   "id": "7567bce6",
   "metadata": {},
   "outputs": [
    {
     "data": {
      "text/html": [
       "<div>\n",
       "<style scoped>\n",
       "    .dataframe tbody tr th:only-of-type {\n",
       "        vertical-align: middle;\n",
       "    }\n",
       "\n",
       "    .dataframe tbody tr th {\n",
       "        vertical-align: top;\n",
       "    }\n",
       "\n",
       "    .dataframe thead th {\n",
       "        text-align: right;\n",
       "    }\n",
       "</style>\n",
       "<table border=\"1\" class=\"dataframe\">\n",
       "  <thead>\n",
       "    <tr style=\"text-align: right;\">\n",
       "      <th></th>\n",
       "      <th>MCQ</th>\n",
       "      <th>Choices</th>\n",
       "      <th>Correct</th>\n",
       "    </tr>\n",
       "  </thead>\n",
       "  <tbody>\n",
       "    <tr>\n",
       "      <th>0</th>\n",
       "      <td>What is the main theme that explains the unity...</td>\n",
       "      <td>a: Energy processing | b: Evolution | c: Regul...</td>\n",
       "      <td>b</td>\n",
       "    </tr>\n",
       "    <tr>\n",
       "      <th>1</th>\n",
       "      <td>What is the scientific study of life known as?</td>\n",
       "      <td>a: Chemistry | b: Biology | c: Physics | d: Ge...</td>\n",
       "      <td>b</td>\n",
       "    </tr>\n",
       "    <tr>\n",
       "      <th>2</th>\n",
       "      <td>What is the process that allows organisms to m...</td>\n",
       "      <td>a: Evolution | b: Energy processing | c: Cellu...</td>\n",
       "      <td>b</td>\n",
       "    </tr>\n",
       "    <tr>\n",
       "      <th>3</th>\n",
       "      <td>At what levels of organization can biologists ...</td>\n",
       "      <td>a: Only at the cellular level | b: From molecu...</td>\n",
       "      <td>b</td>\n",
       "    </tr>\n",
       "    <tr>\n",
       "      <th>4</th>\n",
       "      <td>When did life on Earth emerge?</td>\n",
       "      <td>a: 1 million years ago | b: 3.7 billion years ...</td>\n",
       "      <td>b</td>\n",
       "    </tr>\n",
       "  </tbody>\n",
       "</table>\n",
       "</div>"
      ],
      "text/plain": [
       "                                                 MCQ  \\\n",
       "0  What is the main theme that explains the unity...   \n",
       "1     What is the scientific study of life known as?   \n",
       "2  What is the process that allows organisms to m...   \n",
       "3  At what levels of organization can biologists ...   \n",
       "4                     When did life on Earth emerge?   \n",
       "\n",
       "                                             Choices Correct  \n",
       "0  a: Energy processing | b: Evolution | c: Regul...       b  \n",
       "1  a: Chemistry | b: Biology | c: Physics | d: Ge...       b  \n",
       "2  a: Evolution | b: Energy processing | c: Cellu...       b  \n",
       "3  a: Only at the cellular level | b: From molecu...       b  \n",
       "4  a: 1 million years ago | b: 3.7 billion years ...       b  "
      ]
     },
     "execution_count": 92,
     "metadata": {},
     "output_type": "execute_result"
    }
   ],
   "source": [
    "pd.DataFrame(quiz_table_data)"
   ]
  },
  {
   "cell_type": "code",
   "execution_count": 93,
   "id": "f964057c",
   "metadata": {},
   "outputs": [],
   "source": [
    "quiz.to_csv(\"machinelearning.csv\", index=False)"
   ]
  },
  {
   "cell_type": "code",
   "execution_count": 94,
   "id": "eef0d381",
   "metadata": {},
   "outputs": [
    {
     "data": {
      "text/plain": [
       "'07_11_2025_23_51_12'"
      ]
     },
     "execution_count": 94,
     "metadata": {},
     "output_type": "execute_result"
    }
   ],
   "source": [
    "from datetime import datetime\n",
    "datetime.now().strftime('%m_%d_%Y_%H_%M_%S')"
   ]
  }
 ],
 "metadata": {
  "kernelspec": {
   "display_name": "Python 3",
   "language": "python",
   "name": "python3"
  },
  "language_info": {
   "codemirror_mode": {
    "name": "ipython",
    "version": 3
   },
   "file_extension": ".py",
   "mimetype": "text/x-python",
   "name": "python",
   "nbconvert_exporter": "python",
   "pygments_lexer": "ipython3",
   "version": "3.10.18"
  }
 },
 "nbformat": 4,
 "nbformat_minor": 5
}
